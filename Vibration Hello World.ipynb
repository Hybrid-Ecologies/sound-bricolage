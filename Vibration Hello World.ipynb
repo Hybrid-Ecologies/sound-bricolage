{
 "cells": [
  {
   "cell_type": "code",
   "execution_count": 4,
   "metadata": {
    "collapsed": false
   },
   "outputs": [],
   "source": [
    "import serial\n",
    "import time\n",
    "import json\n",
    "from queue import Queue\n",
    "\n",
    "## Change this to match your local settings\n",
    "SERIAL_PORT = '/dev/cu.usbmodem1421'\n",
    "#SERIAL_PORT = '/dev/tty.usbmodem1421'\n",
    "SERIAL_BAUDRATE = 9600\n",
    "\n",
    "\n",
    "\n",
    "class SerialProcess():\n",
    "    def __init__(self, input_queue, output_queue):\n",
    "        self.input_queue = input_queue\n",
    "        self.output_queue = output_queue\n",
    "        try:\n",
    "            self.sp = serial.Serial(SERIAL_PORT, SERIAL_BAUDRATE, timeout=1)\n",
    "            print(\"SUCCESS: Arduino was found!\")\n",
    "        except Exception as e:\n",
    "            # raise e\n",
    "            self.sp = None\n",
    "            print(\"ERROR: Arduino is not attached! Check to make sure the USB for the door alarm is connected to the BiD computer.\")\n",
    "    def opened(self):\n",
    "        return self.sp\n",
    "    def close(self):\n",
    "        if self.sp:\n",
    "            self.sp.close()\n",
    " \n",
    "    def writeSerial(self, data):\n",
    "        if self.sp:\n",
    "            self.sp.write(data)\n",
    "        # time.sleep(1)\n",
    "        \n",
    "    def readSerial(self):\n",
    "        # return self.sp.readline().replace(\"\\n\", \"\")\n",
    "        if self.sp:\n",
    "            return self.sp.readline()\n",
    " \n",
    "    def run(self):\n",
    "        if self.sp:        \n",
    "            self.sp.flushInput()\n",
    "            while True:\n",
    "                # look for incoming tornado request\n",
    "                if not self.input_queue.empty():\n",
    "                    data = self.input_queue.get()\n",
    "     \n",
    "                    # send it to the serial device\n",
    "                    self.writeSerial(data)\n",
    "                    print(\"writing to serial: \" + data)\n",
    "     \n",
    "                # look for incoming serial data\n",
    "                if (self.sp.inWaiting() > 0):\n",
    "                    data = self.readSerial()\n",
    "                    if data:\n",
    "                        #print \"reading from serial: \" + data\n",
    "                        # send it back to tornado\n",
    "                        self.output_queue.put(data)\n",
    "\n",
    "                        "
   ]
  },
  {
   "cell_type": "code",
   "execution_count": 5,
   "metadata": {
    "collapsed": false
   },
   "outputs": [
    {
     "name": "stdout",
     "output_type": "stream",
     "text": [
      "SUCCESS: Arduino was found!\n"
     ]
    }
   ],
   "source": [
    "p = SerialProcess(Queue(),Queue())"
   ]
  },
  {
   "cell_type": "code",
   "execution_count": 63,
   "metadata": {
    "collapsed": false
   },
   "outputs": [],
   "source": [
    "serial = p.opened()\n",
    "serial"
   ]
  },
  {
   "cell_type": "code",
   "execution_count": 81,
   "metadata": {
    "collapsed": false
   },
   "outputs": [],
   "source": [
    "p.close()"
   ]
  },
  {
   "cell_type": "code",
   "execution_count": 49,
   "metadata": {
    "collapsed": false
   },
   "outputs": [],
   "source": [
    "p.writeSerial(\"a 200\\n\".encode())\n",
    "p.writeSerial(\"a\\n\".encode())"
   ]
  },
  {
   "cell_type": "code",
   "execution_count": 40,
   "metadata": {
    "collapsed": false
   },
   "outputs": [],
   "source": [
    "p.writeSerial(\"a\".encode())"
   ]
  },
  {
   "cell_type": "code",
   "execution_count": 47,
   "metadata": {
    "collapsed": false
   },
   "outputs": [],
   "source": [
    "while (p.readSerial()):\n",
    "    pass"
   ]
  },
  {
   "cell_type": "code",
   "execution_count": null,
   "metadata": {
    "collapsed": false
   },
   "outputs": [],
   "source": []
  },
  {
   "cell_type": "code",
   "execution_count": null,
   "metadata": {
    "collapsed": true
   },
   "outputs": [],
   "source": []
  }
 ],
 "metadata": {
  "anaconda-cloud": {},
  "kernelspec": {
   "display_name": "Python [conda root]",
   "language": "python",
   "name": "conda-root-py"
  },
  "language_info": {
   "codemirror_mode": {
    "name": "ipython",
    "version": 3
   },
   "file_extension": ".py",
   "mimetype": "text/x-python",
   "name": "python",
   "nbconvert_exporter": "python",
   "pygments_lexer": "ipython3",
   "version": "3.5.2"
  }
 },
 "nbformat": 4,
 "nbformat_minor": 1
}
